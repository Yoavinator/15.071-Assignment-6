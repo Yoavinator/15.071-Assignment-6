{
  "cells": [
    {
      "cell_type": "markdown",
      "metadata": {
        "id": "view-in-github",
        "colab_type": "text"
      },
      "source": [
        "<a href=\"https://colab.research.google.com/github/Yoavinator/15.071-Assignment-6/blob/main/15_071_Assignment_6.ipynb\" target=\"_parent\"><img src=\"https://colab.research.google.com/assets/colab-badge.svg\" alt=\"Open In Colab\"/></a>"
      ]
    },
    {
      "cell_type": "markdown",
      "metadata": {
        "id": "cbEQlIplwY5k"
      },
      "source": [
        "\n",
        "\n",
        "<div>\n",
        "    <img src=\"https://www.seattle.gov/images/Departments/SPU/Services/Truck_WM_Front_Load.jpg\" height=\"200\">\n",
        "</div>\n",
        "\n",
        "\n",
        "# 15.071 Fall 2024 Assignment 6\n",
        "\n",
        "# Optimization for Sustainable Waste Management in Ogemaw County\n",
        "\n",
        "**Overview.**\n",
        "This assignment consists of a made-up case pertaining to waste management in Ogemaw County. There are two main tasks:\n",
        "* **Task 1**: Determine the best locations to build landfills to minimize cost to Ogemaw County.\n",
        "* **Task 2**: Determine the best locations to build landfills and _transfer stations_ to minimize cost to Ogemaw County."
      ]
    },
    {
      "cell_type": "markdown",
      "metadata": {
        "id": "P2v8uH_BurPS"
      },
      "source": [
        "# Problem Context\n",
        "Waste management refers to the collection, transportation, and processing/disposal of household and light industrial trash and related materials.  In most countries, waste management is a logistics function that is typically managed at a regional level -- at the county/province/prefecture/canton level in most countries.  Sustainable solutions to waste managemnt problems are even more important as the cost of sanitary landfills has increased considerably.  The decisions of where to construct sanitary landfills (and possible waste compaction transfer stations)  -- in order to minimize total system costs -- is now tackled using modern optimization modeling in conjunction with other business analytics modeling tools.\n",
        "\n",
        "KSA (Kendall Square Analytics) is an analytics-based consulting firm that has recently expanded its practice scope to include serving government and government-related organizations using business analytics for the delivery of a wide variety of public services, including waste management.  \n",
        "\n",
        "KSA has recently been retained by Ogemaw County to assist them in the development of a cost- and environmentally-efficient plan for the siting of sanitary landfills (and possibly waste compaction stations) and associated transportation and logistics decision planning.  As shown in Figure 1, Ogemaw County is a \"square\" region 100 miles by 100 miles, with 50 town/city centers shown in the blue discs in the figure (with the size of each disc being proportional to the population of the town/city center).  Also shown in the figure in green are the candidate locations of 15 candidate sanitary landfill locations.\n",
        "\n",
        "Up until last year, Ogemaw County focused its waste collection efforts on acquiring and operating waste transportation trucks and efficiently designing collection routes. Waste was collected, transported, and disposed of in open-air waste dumps which burned the waste. Burning waste is one of the environmentally worst ways to dispose of waste, and so Ogemaw County was mandated by court order to construct sanitary landfills for waste disposal. They chose three sites for the construction of landfills as shown in Figure 2, whose names are Lake Lorraine,  Muhlenberg Park, and Renfrow. (In the figure the gray lines show the transportation flows of waste tonnage from the town/city centers to the three landfill sites.) The total transportation cost of the plan in Figure 2 is estimated to be **\\$560,000 per week** based on the current weekly waste produced in each town/city center and using the unit waste transportation cost of **\\$1.03 per ton per mile**."
      ]
    },
    {
      "cell_type": "markdown",
      "metadata": {
        "code_folding": [],
        "id": "iGo_aoWpurPT"
      },
      "source": [
        "<div class=\"image123\">\n",
        "    <img src=\"https://drive.google.com/uc?id=1xBEmPkGrXeXd6nTUo2s6TqaXAOyVKlph\" height=\"400\" width=\"400\" style=\"float:left\">\n",
        "    <img class=\"middle-img\" src=\"https://drive.google.com/uc?id=1gzFdPh43EIq7UzrySUsPuH8OCNCjlrAq\"/ height=\"400\" width=\"400\">\n",
        "</div>\n",
        "\n",
        "**Figure 1 (left)**: Map of Ogemaw County showing town/city centers (in blue) and candidate landfill sites (in green).\n",
        "\n",
        "**Figure 2 (right)**: Recent plan for Ogemaw County siting of 3 landfills at the sites (i) Lake Lorraine, (ii) Muhlenberg Park, and (iii) Renfrow. The total weekly transportation cost of this plan is currently \\$560,000.\n",
        "\n",
        "<div style=\"display: flex; justify-content: center; align-items: center;\">\n",
        "    <div style=\"text-align: center;\">\n",
        "        <img src=\"https://gandernewsroom.com/wp-content/uploads/sites/8/2023/10/gary-meulemans-flC-jZUNWaQ-unsplash-1-e1696346406471-jpg.webp\" width=\"300px\" alt=\"Town Center\">\n",
        "        <p>Town Centers</p>\n",
        "    </div>\n",
        "    <div style=\"text-align: center\">\n",
        "        <img src=\"https://pitschcompanies.com/wp-content/uploads/2015/08/landfill2.jpg\" width=\"300px\" alt=\"Landfill\">\n",
        "        <p>Landfills</p>\n",
        "    </div>\n",
        "</div>\n",
        "\n",
        "Ogemaw County has had some discussions with the US EPA (Environmental Protection Agency) in the hopes of receiving some sort of federal funding from the EPA for a more comprehensive waste management solution.  The EPA thought that they might be able to provide direct funding for the construction of up to four (4) landfills, depending on the EPA's own budget and also depending on well Ogemaw County can make the case that this would be an efficient use of such federal funds.  At this point Ogemaw County decided to retain KSA to assist them in determining a least-system-cost plan for choosing which candidate landfill sites to build, as well as the transportation flows of waste tonnage from town/city centers to landfills.\n",
        "\n",
        "In the questions and exercises below, you should consider yourself to be one of the consultants on the KSA team working on this engagement for Ogemaw County."
      ]
    },
    {
      "cell_type": "markdown",
      "metadata": {
        "id": "1u0XR4FvurPU"
      },
      "source": [
        "# Task 1: Where to build landfills to optimize transportation costs\n",
        "\n",
        "The first task is to decide **which candidate sanitary landfills to build**, and then determine the transportation of waste tonnage from the 50 town/city centers to the chosen landfills, in order to minimize transportation costs.\n",
        "\n",
        "With the help of recently hired Research Assistants, the KSA team has constructed the following three dataset files:\n",
        "\n",
        "-\t**center_location.csv**: This file contains the names and locations of the 50 town/city centers. The first row contains the descriptor for the columns in the file: name, the center's location horizontal value (x-coordinate, in miles), and the center's location vertical value (y-coordinate, in miles). Note that the units are shown in miles instead of longitude or latitude units, as miles are more intuitive to work with. The first column contains the name for each of the 50 town/city centers. The second column displays the horizontal location coordinate, namely the $x$-coordinate value in miles, and the third column displays the vertical location coordinate, namely the $y$-coordinate value in miles.\n",
        "-\t**landfill_location.csv**: This file contains the names and locations of the 15 *candidate* landfill sites. The first row contains the descriptor for the columns in the file: name, the candidate site's location horizontal value (x-coordinate, in miles), and the candidate site's location vertical value (y-coordinate, in miles). Again, the units are shown in miles instead of longitude or latitude units, as miles are more intuitive to work with. The first column contains the name for each of the 15 candidate sites, the second column displays the horizontal location coordinate, namely the $x$-coordinate value in miles, and the third column displays the vertical location coordinate, namely the $y$-coordinate value in miles.\n",
        "-\t**center_info.csv**: This file some contains additional data for the 50 town/city centers that will be used in this exercise.  The second column contains the weekly quantity of waste produced by each town/city center, in tons per week.  The third column shows the average per capita income of each town/city center, in dollars.  And the fourth column contains the population of each town/city center, which will be used later in this modeling exercise.\n",
        "\n",
        "Using the above datasets, we now construct an optimization in order to caluclate the best set of landfills to build in order to meet all the county's waste demand\n",
        "\n"
      ]
    },
    {
      "cell_type": "markdown",
      "metadata": {
        "id": "kjHZN3yFurPW"
      },
      "source": [
        "## (a) Optimization Model Formulation [20 Points]\n",
        "\n",
        "Let us consider the following optimization model:\n",
        "\n",
        "### Sets (\"Lists\")\n",
        "We first describe two sets (\"lists\"), namely the list of town/city centers, and the list of candidate landfill locations:\n",
        "\n",
        "\\begin{align*}\n",
        "\\mathbf{C}\t& : \\quad \\text{The set (\"list\") of the 50 town/city centers}, \\quad \\mathbf{C}  = \\{\\text{Sioux Falls, Apison, ..., Portola} \\} \\\\\n",
        "\\mathbf{L}\t& :\t\\quad\\text{The set (\"list\") of the 15 candidate landfill sites},\\quad  \\mathbf{L}= \\{\\text{Avondale Estates, Hurt, ..., Helenwood} \\}\n",
        "\\end{align*}\n",
        "\n",
        "### Parameters (Data)\n",
        "Next we define some of the data (\"parameters\") for the model, namely the weekly waste quantity produced by each town/city center, and the straight-line distances between each town/city center and each landfill site:\n",
        "\n",
        "$$\n",
        "\\begin{align*}\n",
        "q_c:\t\t&\t\\quad\\text{amount of waste generated (in tons/week) at town/city center } c \\ , \\ \\text{for each center } c \\in \\mathbf{C}\\\\\n",
        "d_{c,\\ell}:\t&\t\\quad\\text{straight-line distance (in miles) between each center } c \\in \\mathbf{C} \\ \\text{ and each landfill site } \\ell \\in \\mathbf{L} \\\\\n",
        "\\end{align*}\n",
        "$$\n",
        "\n",
        "Regarding the straight-line distances $d_{c,\\ell}$ above, the straight-line distance between a center $c$ and a landfill site $\\ell$ is given by the well-known formula:\n",
        "$$ \\ $$\n",
        "$$d_{c,\\ell}:=\\sqrt{\\left| \\text{x-coord. of center $c$}\\ -\\ \\text{x-coord. of landfill $\\ell$} \\right|^2+\\left|\\text{y-coord. of center $c$}\\ -\\ \\text{y-coord. of landfill $\\ell$}\\right|^2} \\  $$\n",
        "\n",
        "###  Decision Variables\n",
        "We define two groups of decision variables.  One group is the quantities of waste transported from each town/city center to each candidate landfill, and the other is the group of binary variables that indicate whether a candidate landfill site is assigned to be built or not.\n",
        "$$\n",
        "\\begin{align*}\n",
        "x_{c,\\ell}:\t&\t\\quad\\text{amount of waste transported from center $c$ to landfill $\\ell$ in tons/week, for all $c\\in\\mathbf{C}$ and $\\ell\\in\\mathbf{L}$}\t\\\\ \\\\\n",
        "z_\\ell=\t\t&\t\\quad\t\\text{1 or 0 , if landfill site $\\ell$ is chosen to be built or not, for each } \\ell\\in\\mathbf{L}\t\\\\\n",
        "\\end{align*}\n",
        "$$\n",
        "\n",
        "###  Optimization Model Formulation\n",
        "With the above lists, parameters, and decision variables, we formulate our optimization model as follows:\n",
        "\n",
        "$$\n",
        "\\begin{align*}\n",
        "\\min \\quad & 1.03 \\cdot \\sum_{c \\in \\mathbf{C}} \\sum_{\\ell \\in \\mathbf{L}} d_{c,\\ell} \\cdot x_{c,\\ell} \\\\\n",
        "\\text{s.t.} \\quad & \\sum_{\\ell \\in \\mathbf{L}} x_{c,\\ell} = q_c \\quad \\text{for each center } c \\in \\mathbf{C} \\\\\n",
        "& \\sum_{\\ell \\in \\mathbf{L}} z_\\ell \\leq 4 \\\\\n",
        "& x_{c,\\ell} \\leq 100,000 \\cdot z_\\ell \\quad \\text{for each center } c \\in \\mathbf{C} \\text{ and each landfill site } \\ell \\in \\mathbf{L} \\\\\n",
        "& x_{c,\\ell} \\geq 0 \\quad \\text{for each center } c \\in \\mathbf{C} \\text{ and each landfill site } \\ell \\in \\mathbf{L} \\\\\n",
        "& z_\\ell \\in \\{0, 1\\} \\quad \\text{for each landfill site } \\ell \\in \\mathbf{L}\n",
        "\\end{align*}\n",
        "$$\n",
        "\n",
        "Recall from the introduction section that the cost of transporting waste in Ogemaw County is estimated to be \\$1.03 per ton per mile.\n",
        "\n",
        "Note that the third constraint group above uses 100,000 as an arbitrarily chosen very large number (this is the big-M in the lecture notes)."
      ]
    },
    {
      "cell_type": "markdown",
      "metadata": {
        "id": "SDYTxZmXurPX"
      },
      "source": [
        "\n",
        "**Understanding the Model Formulation**. Show that you understand the above model formulation by answering Questions 1-5 below. We recommend that each answer be 1-3 sentences. Your answers should convince the grader that you have a thorough understanding of this optimization model formulation.\n",
        "\n"
      ]
    },
    {
      "cell_type": "markdown",
      "metadata": {
        "id": "OBAUBQ8RurPZ"
      },
      "source": [
        "**Question 1.** What is the purpose of each of the two groups of decision variables ($x$ and $z$)?  What are the units of these decision variables? Which variable is required to be an integer?\n",
        "\n",
        "**Answer 1.** _Your Answer Here_\n",
        "\n"
      ]
    },
    {
      "cell_type": "markdown",
      "metadata": {
        "id": "t3QV1yNPurPa"
      },
      "source": [
        "**Question 2.** Describe the objective function in one sentence. What are the units of the objective function?\n",
        "\n",
        "**Answer 2.** _Your Answer Here._"
      ]
    },
    {
      "cell_type": "markdown",
      "metadata": {
        "id": "lhRT5GD1urPa"
      },
      "source": [
        "**Question 3.** What is the purpose of the first group of constraints?\n",
        "\n",
        "**Answer 3.** _Your Answer Here._"
      ]
    },
    {
      "cell_type": "markdown",
      "metadata": {
        "id": "0ue5iHCEurPb"
      },
      "source": [
        "**Question 4.** What is the purpose/role of the second group of constraints?\n",
        "\n",
        "**Answer 4.** _Your Answer Here._"
      ]
    },
    {
      "cell_type": "markdown",
      "metadata": {
        "id": "e5Uoe2L-urPb"
      },
      "source": [
        "**Question 5.** What is the purpose of the third group of constraints?  Explain how the \"big M\" of 100,000 works in this group of constraints to enforce sensibility.\n",
        "\n",
        "**Answer 5.** _Your Answer Here._"
      ]
    },
    {
      "cell_type": "markdown",
      "metadata": {
        "id": "AUMG8leMurPb"
      },
      "source": [
        "## (b): Constructing and Solving the Optimization Model [10 Points]\n",
        "\n",
        "In this question you will use gurobipy to construct, solve, and then use the optimization model formulated above. Gurobipy is an optimization modeling software library for building and solving linear, binary, and mixed-integer optimization models."
      ]
    },
    {
      "cell_type": "markdown",
      "metadata": {
        "id": "HBHgRvCEzJAD"
      },
      "source": [
        "**Step 1**: We will import gurobipy and other data-manipulation and visualization libraries"
      ]
    },
    {
      "cell_type": "code",
      "execution_count": null,
      "metadata": {
        "id": "uYc7Lo9Eya8P"
      },
      "outputs": [],
      "source": [
        "!pip install gurobipy\n",
        "import gurobipy as gp\n",
        "from gurobipy import GRB\n",
        "import pandas as pd\n",
        "import numpy as np\n",
        "import matplotlib.pyplot as plt\n",
        "import numpy as np\n",
        "\n",
        "# Create an environment with your WLS license\n",
        "params = {\n",
        "    \"WLSACCESSID\": \"abcde\"\n",
        "    \"WLSSECRET\": \"abcde\"\n",
        "    \"LICENSEID\": 123456\n",
        "}\n",
        "\n",
        "env = gp.Env(params=params)"
      ]
    },
    {
      "cell_type": "markdown",
      "metadata": {
        "id": "WekOkuhburPd"
      },
      "source": [
        "**Step 2**: Let us now read in the three data files described earlier.\n",
        "\n",
        "**Practical Tip**: Whenever you read in data, we recommend that you take a quick look at the top few rows to check if the data \"looks right\". Here, we use .head() to examine the first few rows, but you can also use .tail() to examine the bottom few rows."
      ]
    },
    {
      "cell_type": "code",
      "execution_count": null,
      "metadata": {
        "id": "M0RofzqaurPd"
      },
      "outputs": [],
      "source": [
        "center_locations = pd.read_csv(f'https://drive.google.com/uc?id=1xSmlqN9q_ZoZukA5wpjkZfoz8qyNavS6', index_col=\"Center\")\n",
        "center_locations.head()"
      ]
    },
    {
      "cell_type": "code",
      "execution_count": null,
      "metadata": {
        "id": "Dmpu6yLJurPe"
      },
      "outputs": [],
      "source": [
        "landfill_locations = pd.read_csv(f'https://drive.google.com/uc?id=1PxLTRJhM28SqhyMDNQHeWn31IjtPB5If', index_col=\"Landfill\")\n",
        "landfill_locations.head()"
      ]
    },
    {
      "cell_type": "code",
      "execution_count": null,
      "metadata": {
        "id": "mcnBcX6UurPf"
      },
      "outputs": [],
      "source": [
        "center_info = pd.read_csv(f'https://drive.google.com/uc?id=1CCDwZydkzDQDFV-xyQekp5dZ95wmWD7N', index_col=\"Center\")\n",
        "center_info.head()"
      ]
    },
    {
      "cell_type": "markdown",
      "metadata": {
        "id": "VOhjOyA1urPf"
      },
      "source": [
        "The data looks good, so let us proceed to the next step."
      ]
    },
    {
      "cell_type": "markdown",
      "metadata": {
        "id": "F0tIjqAyurPf"
      },
      "source": [
        "**Step 3**: We define the set (or list) of centers and the set of landfills"
      ]
    },
    {
      "cell_type": "code",
      "execution_count": null,
      "metadata": {
        "id": "ttj5CUSlurPf"
      },
      "outputs": [],
      "source": [
        "centers = list(center_locations.index)\n",
        "centers[:5]"
      ]
    },
    {
      "cell_type": "code",
      "execution_count": null,
      "metadata": {
        "id": "yYjVWxRwurPf"
      },
      "outputs": [],
      "source": [
        "landfills = list(landfill_locations.index)\n",
        "landfills[:5]"
      ]
    },
    {
      "cell_type": "markdown",
      "metadata": {
        "id": "GxaRMqiburPg"
      },
      "source": [
        "The lists look good, so let us proceed to the next step."
      ]
    },
    {
      "cell_type": "markdown",
      "metadata": {
        "id": "7c-Chf8jurPg"
      },
      "source": [
        "**Step 4**: Let us compute the straight-line (\"SL\") distances between each of the centers and each of the candidate landfill sites. We will of course use these distances in our model formulation."
      ]
    },
    {
      "cell_type": "code",
      "execution_count": null,
      "metadata": {
        "code_folding": [],
        "id": "1k3uJn9OurPg"
      },
      "outputs": [],
      "source": [
        "# compute the straight-line distances between all centers and all landfills\n",
        "sl_distance_centers_landfills = pd.DataFrame(index=centers, columns=landfills)\n",
        "for i in centers:\n",
        "    for j in landfills:\n",
        "        center_x = center_locations.loc[i, \"x\"]\n",
        "        center_y = center_locations.loc[i, \"y\"]\n",
        "        landfill_x = landfill_locations.loc[j, \"x\"]\n",
        "        landfill_y = landfill_locations.loc[j, \"y\"]\n",
        "        distance = ((center_x - landfill_x)**2 +\n",
        "                    (center_y - landfill_y)**2)**(1/2)\n",
        "        sl_distance_centers_landfills.loc[i, j] = distance"
      ]
    },
    {
      "cell_type": "markdown",
      "metadata": {
        "id": "QNiFVX7UurPm"
      },
      "source": [
        "Practical Tip: Once again, whenever you do a computation, we recommend you take a quick look at the output to make sure it \"looks right."
      ]
    },
    {
      "cell_type": "code",
      "execution_count": null,
      "metadata": {
        "id": "HWBHbVEJurPn"
      },
      "outputs": [],
      "source": [
        "sl_distance_centers_landfills.head()"
      ]
    },
    {
      "cell_type": "markdown",
      "metadata": {
        "id": "4oIGZgvYurPn"
      },
      "source": [
        "**Step 5**: With the preliminaries completed, we can now construct our optimization model in gurobipy and solve for the optimal solution.\n",
        "\n",
        "**Please fill in the `???` in the code below.**"
      ]
    },
    {
      "cell_type": "code",
      "execution_count": null,
      "metadata": {
        "id": "yesEyDALurPn"
      },
      "outputs": [],
      "source": [
        "model_1b = gp.Model(env=env)\n",
        "\n",
        "# Decision variables\n",
        "x = model_1b.addVars(???, ???, name=\"x\")\n",
        "z = model_1b.addVars(???, vtype=GRB.BINARY, name=\"z\")\n",
        "\n",
        "# Objective\n",
        "model_1b.setObjective(\n",
        "    1.03 * sum(sl_distance_centers_landfills.loc[i, j] * x[i, j]\n",
        "    for ??? for ???), GRB.MINIMIZE)\n",
        "\n",
        "for i in centers:\n",
        "    model_1b.addConstr(sum(x[i, j] for ???) == center_info.loc[i, 'waste tonnage'])\n",
        "\n",
        "model_1b.addConstr(sum(z[j] for j in landfills) <= ???)\n",
        "\n",
        "for i in centers:\n",
        "    for j in landfills:\n",
        "        model_1b.addConstr(x[i, j] <= 100000 * z[j])\n",
        "\n",
        "model_1b.optimize()"
      ]
    },
    {
      "cell_type": "markdown",
      "metadata": {
        "id": "Ikly7c-KurPo"
      },
      "source": [
        "## (c) Examinining the Optimal Solution [10 Points]\n",
        "\n",
        "Now it is time to examine the output of the optimization model to see what the optimal solution looks like.\n",
        "\n",
        "Which landfill sites are chosen in the optimal solution of the model? Let's examine the solution by printing out the landfills `j in landfills` for which `z[j]` is 1."
      ]
    },
    {
      "cell_type": "code",
      "execution_count": null,
      "metadata": {
        "id": "5av_V9zeurPo"
      },
      "outputs": [],
      "source": [
        "for j in landfills:\n",
        "    if z[j].x == 1:\n",
        "        print(\"Build landfill at\", j)"
      ]
    },
    {
      "cell_type": "markdown",
      "metadata": {
        "id": "DQuR0n5KurPp"
      },
      "source": [
        "**Question 6.** What is the total weekly cost of the optimal solution? Write code in the cell below to display this numerical value.\n",
        "\n",
        "(Since the objective function of the model is the total weekly cost, we can simply \"read off\" the optimal value using the `ObjVal` property of `model_1b`)."
      ]
    },
    {
      "cell_type": "code",
      "execution_count": null,
      "metadata": {
        "id": "2tqFRNFyurPp"
      },
      "outputs": [],
      "source": [
        "### YOUR CODE HERE ###\n"
      ]
    },
    {
      "cell_type": "markdown",
      "metadata": {
        "id": "XBeg0GW0urPp"
      },
      "source": [
        "Let us \"hand calculate\" the total weekly cost of the optimal solution and see if it matches the optimal objective function value."
      ]
    },
    {
      "cell_type": "code",
      "execution_count": null,
      "metadata": {
        "id": "oCtk557zurPp"
      },
      "outputs": [],
      "source": [
        "total_cost = 1.03 * sum(sl_distance_centers_landfills.loc[i,j]*x[i,j].x for i in centers for j in landfills)\n",
        "print(\"Total weekly cost is: $ %f\" % (total_cost))"
      ]
    },
    {
      "cell_type": "markdown",
      "metadata": {
        "id": "xQV9b2wIurPq"
      },
      "source": [
        "\n",
        "They match - excellent!\n",
        "\n",
        "_Practical Tip_: Hand-calculating values and checking that they match the output of the model is a great way to ensure clear understanding of the model and to check for typos or command errors."
      ]
    },
    {
      "cell_type": "markdown",
      "metadata": {
        "id": "srMlu_r9urPq"
      },
      "source": [
        "**Visualize the Solution.**\n",
        "To help visualize the solution, let us plot the locations of the chosen landfills and the assignments of landfills for each center.\n",
        "\n",
        "Note: You do not need to understand any of the code below, nor any other cell in this notebook that is used for making a plot."
      ]
    },
    {
      "cell_type": "code",
      "execution_count": null,
      "metadata": {
        "scrolled": false,
        "id": "nanlZpBHurPq"
      },
      "outputs": [],
      "source": [
        "built_landfills = []\n",
        "for j in landfills:\n",
        "    if z[j].x == 1:\n",
        "        built_landfills.append(j)\n",
        "\n",
        "built_landfills_for_plot1 = built_landfills.copy()\n",
        "all_vars = model_1b.getVars()\n",
        "values = model_1b.getAttr(\"X\", all_vars)\n",
        "names = model_1b.getAttr(\"VarName\", all_vars)\n",
        "optimal_solution_for_plot1 = dict(zip(names, values))\n",
        "\n",
        "fig, ax = plt.subplots(figsize=(5.,5.), dpi = 100)\n",
        "for i in built_landfills_for_plot1:\n",
        "    for j in centers:\n",
        "        index_name = \"x[\"+ j + ',' + i + ']'\n",
        "        if optimal_solution_for_plot1[index_name] > 1e-6:\n",
        "            x_coordinates = [landfill_locations.loc[i,'x'], center_locations.loc[j,'x']]\n",
        "            y_coordinates = [landfill_locations.loc[i,'y'], center_locations.loc[j,'y']]\n",
        "            ax.plot(x_coordinates, y_coordinates, color='black',linestyle='-', alpha=0.5)\n",
        "ax.scatter(center_locations['x'], center_locations['y'], color='blue', s=center_info['waste tonnage']/10, label=\"Center locations\")\n",
        "ax.scatter(landfill_locations.loc[built_landfills,'x'], landfill_locations.loc[built_landfills,'y'], color='green', label=\"Landfill locations\")\n",
        "ax.legend()\n",
        "ax.set_xlim(0, 100);\n",
        "ax.set_ylim(0, 100);\n",
        "ax.set_xlabel('x-coordinate (Longitude), in miles')\n",
        "ax.set_ylabel('y-coordinate (Latitude), in miles')\n",
        "plt.title('Optimal Solution from Task 1(b)')\n",
        "plt.show()"
      ]
    },
    {
      "cell_type": "markdown",
      "metadata": {
        "id": "A4JMVlDCurPq"
      },
      "source": [
        "**Question 7.**\n",
        "Comment on the visualization above. What might you say to your client?\n",
        "\n",
        "**Answer 7.** _Your Answer Here_"
      ]
    },
    {
      "cell_type": "markdown",
      "metadata": {
        "id": "B63c7fQBurPr"
      },
      "source": [
        "## (d): Including Cost of Landfills [10 Points]\n",
        "\n",
        "Recall that the EPA indicated that they might be able to provide direct funding for the construction of up to four landfills, depending on the EPA's own budget and also depending on well Ogemaw County can make the case that this would be an efficient use of such federal funds.  But what is the most cost-effective number of landfills to build? Clearly, building more landfills requires more capital; but building more landfills should lower overall waste transportation costs the transportation logistics are efficiently managed.\n",
        "\n",
        "While the EPA funds might be \"free\" to Ogemaw County (if they receive them at all), nevertheless the possibility of receiving these funds hinges on the making the case that the funds will be used efficiently, which includes designing and operating the most cost-effective waste operations. KSA has lots of experience in estimating capital costs of landfills and in the logistics operations of waste management. While the capital outlay for a landfill is huge, the outlay is typically financed with a tax-free bond. For Ogemaw County and at current bond rates, KSA estimates that the weekly cost of servicing a bond on one newly-constructed landfill is $8,750 per week.\n",
        "\n",
        "In this question, we ask you to modify the model presented in question 1(b) to solve for the most cost-efficient overall solution that optimizes the number of landfills and includes both transportation costs and the costs of servicing the bonds for constructing landfills.\n",
        "\n",
        "**Please fill in the missing code below in `???`**"
      ]
    },
    {
      "cell_type": "code",
      "execution_count": null,
      "metadata": {
        "id": "yXu-WexVurPr"
      },
      "outputs": [],
      "source": [
        "model_1d = gp.Model(env=env)\n",
        "\n",
        "# Decision variables\n",
        "x = model_1d.addVars(???, ???, name=\"x\")\n",
        "z = model_1d.addVars(???, vtype=GRB.BINARY, name=\"z\")\n",
        "\n",
        "# Objective\n",
        "model_1d.setObjective(\n",
        "    1.03 * sum(sl_distance_centers_landfills.loc[i, j] * x[i, j]for ??? for ???)\n",
        "    + ??? ,\n",
        "    GRB.MINIMIZE)\n",
        "\n",
        "# Constraint Group 1\n",
        "for i in centers:\n",
        "    model_1d.addConstr(sum(x[i, j] for ???) == center_info.loc[i, 'waste tonnage'])\n",
        "\n",
        "# Constraint Group 3\n",
        "for i in centers:\n",
        "    for j in landfills:\n",
        "        model_1d.addConstr(x[i, j] <= 100000 * ???)\n",
        "\n",
        "model_1d.optimize()"
      ]
    },
    {
      "cell_type": "markdown",
      "metadata": {
        "id": "_H4g4RdWurPs"
      },
      "source": [
        "## (e): Examining the Optimal Solution with Landfill Costs  [20 Points]\n",
        "\n",
        "**Question 8.**\n",
        "Which landfill sites are chosen in the new optimal solution of the model? Write code in the cell below which prints out \"Build landfill at XXX\" for each of the landfills that are built."
      ]
    },
    {
      "cell_type": "code",
      "execution_count": null,
      "metadata": {
        "id": "zTPs8F4gurPs"
      },
      "outputs": [],
      "source": [
        "### YOUR CODE HERE ###\n"
      ]
    },
    {
      "cell_type": "markdown",
      "metadata": {
        "id": "7SJLbCmmurPs"
      },
      "source": [
        "**Question 9.** Use the following 2 code cells to compute the following costs:\n",
        "* Total weekly cost\n",
        "* Total cost from transportation. _Hint_: You may want to look at how we \"hand calculated\" the objective in (b)\n",
        "* Total cost from servicing bonds on the newly constructed landfills.\n"
      ]
    },
    {
      "cell_type": "code",
      "execution_count": null,
      "metadata": {
        "id": "DhG5OlcZurPt"
      },
      "outputs": [],
      "source": [
        "### YOUR CODE HERE ###\n"
      ]
    },
    {
      "cell_type": "code",
      "source": [
        "### YOUR CODE HERE ###\n"
      ],
      "metadata": {
        "id": "v9Ez3KLBPL3C"
      },
      "execution_count": null,
      "outputs": []
    },
    {
      "cell_type": "markdown",
      "metadata": {
        "id": "gklr2DWzurPt"
      },
      "source": [
        "**Question 10.**\n",
        "How does the total cost of `model_1d` compare to that of `model_1b`? How about the transportation cost? Is this expected?\n",
        "\n",
        "**Answer 10.** _Your Answer Here_\n"
      ]
    },
    {
      "cell_type": "markdown",
      "metadata": {
        "id": "EXi35aq6urPu"
      },
      "source": [
        "**Visualization the Solution.** Now, let's examine the sites of the landfills chosen in the optimal solution and the transportation flows from the centers to the chosen landfills."
      ]
    },
    {
      "cell_type": "code",
      "execution_count": null,
      "metadata": {
        "id": "ruKNHxmhurPu"
      },
      "outputs": [],
      "source": [
        "built_landfills_for_plot2 = []\n",
        "for j in landfills:\n",
        "    if z[j].x >= 0.9999:\n",
        "        built_landfills_for_plot2.append(j)\n",
        "\n",
        "all_vars = model_1d.getVars()\n",
        "values = model_1d.getAttr(\"X\", all_vars)\n",
        "names = model_1d.getAttr(\"VarName\", all_vars)\n",
        "optimal_solution_for_plot2 = dict(zip(names, values))\n",
        "\n",
        "fig, (ax1, ax2) = plt.subplots(nrows=1, ncols=2, figsize=(11, 5))\n",
        "\n",
        "for i in built_landfills_for_plot1:\n",
        "    for j in centers:\n",
        "        index_name = \"x[\"+ j + ',' + i + ']'\n",
        "        if optimal_solution_for_plot1[index_name] > 1e-6:\n",
        "            x_coordinates = [landfill_locations.loc[i,'x'], center_locations.loc[j,'x']]\n",
        "            y_coordinates = [landfill_locations.loc[i,'y'], center_locations.loc[j,'y']]\n",
        "            ax1.plot(x_coordinates, y_coordinates, color='black',linestyle='-', alpha=0.5)\n",
        "ax1.scatter(center_locations['x'], center_locations['y'], color='blue', s=center_info['waste tonnage']/10, label=\"Center locations\")\n",
        "ax1.scatter(landfill_locations.loc[built_landfills_for_plot1,'x'], landfill_locations.loc[built_landfills_for_plot1,'y'], color='green', label=\"Landfill locations\")\n",
        "ax1.legend()\n",
        "ax1.set_xlim(0, 100);\n",
        "ax1.set_ylim(0, 100);\n",
        "ax1.set_xlabel('x-coordinate (Longitude), in miles')\n",
        "ax1.set_ylabel('y-coordinate (Latitude), in miles')\n",
        "ax1.set_title('Model of Question 1(b)')\n",
        "\n",
        "\n",
        "for i in built_landfills_for_plot2:\n",
        "    for j in centers:\n",
        "        index_name = \"x[\"+ j + ',' + i + ']'\n",
        "        if optimal_solution_for_plot2[index_name] > 1e-6:\n",
        "            x_coordinates = [landfill_locations.loc[i,'x'], center_locations.loc[j,'x']]\n",
        "            y_coordinates = [landfill_locations.loc[i,'y'], center_locations.loc[j,'y']]\n",
        "            ax2.plot(x_coordinates, y_coordinates, color='black',linestyle='-', alpha=0.5)\n",
        "ax2.scatter(center_locations['x'], center_locations['y'], color='blue', s=center_info['waste tonnage']/10, label=\"Center locations\")\n",
        "ax2.scatter(landfill_locations.loc[built_landfills_for_plot2,'x'], landfill_locations.loc[built_landfills_for_plot2,'y'], color='green', label=\"Landfill locations\")\n",
        "ax2.legend()\n",
        "ax2.set_xlim(0, 100);\n",
        "ax2.set_ylim(0, 100);\n",
        "ax2.set_xlabel('x-coordinate (Longitude), in miles')\n",
        "ax2.set_ylabel('y-coordinate (Latitude), in miles')\n",
        "ax2.set_title('Model of Question 1(d)')\n",
        "plt.show()"
      ]
    },
    {
      "cell_type": "markdown",
      "metadata": {
        "id": "vTVbxs4NurPu"
      },
      "source": [
        "\n",
        "\n",
        "**Question 11.** What are the key differences between your new optimal solution and the previous optimal solution in question 1(b)? Why is the solution different from that in question 1(b)? What might you want to recommend to your client based on your evaluation?\n",
        "\n",
        "**Answer 11.** _Your Answer Here_"
      ]
    },
    {
      "cell_type": "markdown",
      "metadata": {
        "id": "5FyOefSg7jXG"
      },
      "source": [
        "# Task 2: Including the possibility of building transfer stations in the waste management plan\n",
        "\n",
        "The KSA engagement lead has proposed that the team study the possibility of building waste compaction transfer stations as part of the overall capital and logistics plan. Waste compaction essentially reduces the volume of waste, making it proportionally less expensive to transport. As mentioned earlier, the transportation cost of waste is estimated to be \\$1.03 per mile per ton. However, compacted waste is estimated to cost \\$0.40 per mile per ton to transport, as shown in Figure 4 below. The capital outlay for a compaction transfer station is quite large, but this cost is offset by the lower transportation cost (and presumably a lower environmental impact) of such transportation. KSA estimates that the weekly cost of servicing a bond on one newly-constructed transfer station is $6,500 per week. Each transfer station can treat up to 2,000 tons of waste per week.\n",
        "\n",
        "The KSA team has identified 30 candidate sites for compaction transfer stations, as shown in Figure 5 below.  In this figure, the locations of the 30 candidate transfer station sites are in orange, and for reference the figure also includes the locations of city/town centers (in blue) and candidate landfill sites (in green)."
      ]
    },
    {
      "cell_type": "code",
      "execution_count": null,
      "metadata": {
        "id": "Lzbd9LGh7jXH"
      },
      "outputs": [],
      "source": [
        "station_locations = pd.read_csv(f'https://drive.google.com/uc?id=1VCvMz4wzabW770u04gVlh0LrnnbV5fze', index_col=\"Station\")\n",
        "plt.figure(figsize=(6,6), dpi = 100)\n",
        "plt.scatter(center_locations['x'], center_locations['y'], color='blue', s=center_info['waste tonnage']/10, label=\"Center locations\")\n",
        "plt.scatter(landfill_locations['x'], landfill_locations['y'], color='green', label=\"Landfill locations\")\n",
        "plt.scatter(station_locations['x'], station_locations['y'], color='orange', label=\"Station locations\")\n",
        "plt.legend()\n",
        "plt.xlim(0, 100);\n",
        "plt.ylim(0, 100);\n",
        "plt.xlabel('x-coordinate (Longitude)')\n",
        "plt.ylabel('y-coordinate (Latitude)')\n",
        "plt.show()"
      ]
    },
    {
      "cell_type": "markdown",
      "metadata": {
        "id": "z1sjqQCQ7jXI"
      },
      "source": [
        "**Figure 4** (above): Map of Ogemaw County showing town/city centers (in blue), candidate landfill sites (in green), and candidate compaction transfer stations (in orange).\n",
        "\n",
        "Our task now is to decide not only which candidate sanitary landfills to build, but also to decide which transfer stations to build, and the subsequent transportation of waste tonnage from the 50 town/city centers to the chosen transfer stations and on to the chosen landfills, in order to minimize weeklly system cost. Collected waste can be transported from a town/city center directly to a landfall as uncompacted waste (as was presumed in Task 1), or it can first go to a transfer station as uncompacted waste and then to a landfill as compacted waste, as shown in the figure below.\n",
        "\n",
        "<div>\n",
        "    <img src=\"https://drive.google.com/uc?id=1ApjAZVOZYkTc2cEpqlnpFc4IsrUWZ-jr\" height=\"400\" width=\"500\" style=\"float:center\">\n",
        "</div>\n",
        "\n",
        "**Figure 5** (above): The possible ways that waste can go from the town centers to the landfill.\n",
        "\n",
        "\n",
        "In addition to the earlier datasets for this exercise, the KSA team has constructed the transfer stations dataset file:\n",
        "\n",
        "- **station.csv**: This file contains the names and locations of the 30 candidate transfer station sites. The first row contains the descriptor for the columns in the file: name, the candidate site's location horizontal value (x-coordinate, in miles), and the candidate site's location vertical value (y-coordinate, in miles). As before, the units are shown in miles instead of longitude or latitude units, as miles are more intuitive to work with. The first column contains the name for each of the 30 candidate sites, the second column displays the horizontal location coordinate, namely the $x$-coordinate value in miles, and the third column displays the vertical location coordinate, namely the $y$-coordinate value in miles.\n",
        "\n"
      ]
    },
    {
      "cell_type": "markdown",
      "metadata": {
        "id": "4XIGlRez7jXJ"
      },
      "source": [
        "## (a) Optimization Model Formulation [30 Points]"
      ]
    },
    {
      "cell_type": "markdown",
      "metadata": {
        "id": "CQBAd62j7jXJ"
      },
      "source": [
        "We can expand our earlier optimization model to include the possibility of building transfer stations. Let us now consider the following model:\n",
        "\n",
        "**Sets (\"Lists\")**\n",
        "\n",
        "In addition to the sets/lists of town/city centers and candidate landfills, we also need to include a new set/list for the compaction transfer stations\n",
        "\n",
        "\\begin{align*}\n",
        "\\mathbf{C}\t& : \\quad \\text{The set (\"list\") of the 50 town/city centers}, \\quad \\mathbf{C}  = \\{\\text{Sioux Falls, Apison, ..., Portola} \\} \\\\\n",
        "\\mathbf{L}\t& :\t\\quad\\text{The set (\"list\") of the 15 candidate landfill sites},\\quad  \\mathbf{L}= \\{\\text{Avondale Estates, Hurt, ..., Helenwood} \\} \\\\\n",
        "\\mathbf{S}\t& :\t\\quad\\text{The set (\"list\") of the 30 candidate transfer station sites},\\quad  \\mathbf{S}= \\{\\text{Glenview Hills, Big Island, ..., Chamita} \\}\n",
        "\\end{align*}\n",
        "\n",
        "**Parameters (\"Data\")**\n",
        "\n",
        "For the model parameters (the \"data\"), we will now need to include the distances between each center $c$ and each station $s$, and between each station $s$ and each landfill $\\ell$. So our parameters are:\n",
        "\n",
        "\\begin{align*}\n",
        "q_c:\t\t&\t\\quad\t\\text{amount of waste generated (in tons/week) at town/city center } c \\ , \\ \\text{for each center } c \\in \\mathbf{C}\\\\\n",
        "d_{c,\\ell}:\t&\t\\quad\\text{Distance (in miles) between each center } c \\in \\mathbf{C} \\ \\text{ and each landfill site } \\ell \\in \\mathbf{L} \\\\\n",
        "d_{c,s}:\t&\t\\quad\\text{Distance (in miles) between each center } c \\in \\mathbf{C} \\ \\text{ and each transfer station site } s \\in \\mathbf{S} \\\\\n",
        "d_{s,\\ell}:\t&\t\\quad\\text{Distance (in miles) between each landfill site } \\ell \\in \\mathbf{L} \\ \\text{ and each transfer station site } s \\in \\mathbf{S} \\\\\n",
        "\\end{align*}\n",
        "\n",
        "**Decision variables**\n",
        "\n",
        "As for the decision variables, we also will need binary variables $y_s$ to model whether station $s$ is chosen or not. Thus our binary decision variables are:\n",
        "\n",
        "\\begin{align*}\n",
        "z_\\ell=\t\t&\t\\quad\t\\text{1 or 0 , if landfill site $\\ell$ is chosen to be built or not, for each } \\ell\\in\\mathbf{L}\t\\\\\n",
        "y_s=\t\t&\t\\quad\t\\text{1 or 0 , if station site $s$ is chosen to be built or not, for each } s\\in\\mathbf{S}\n",
        "\\end{align*}\n",
        "\n",
        "We also need to include variables for transportation of waste from centers to stations, as well as variables for transportation from stations to landfills. Our transportation decision variables are therefore:\n",
        "\n",
        "\\begin{align*}\n",
        "x_{c,\\ell}:\t&\t\\quad\\text{amount of waste transported from center $c$ to landfill $\\ell$ in tons/week, for all $c\\in\\mathbf{C}$ and $\\ell\\in\\mathbf{L}$}\t\\\\\n",
        "x_{c,s}:\t&\t\\quad\\text{amount of waste transported from center $c$ to station $s$ in tons/week, for all $c\\in\\mathbf{C}$ and $s\\in\\mathbf{S}$}\t\\\\\n",
        "x_{s,\\ell}:\t&\t\\quad\\text{amount of waste transported from station $s$ to landfill $\\ell$ in tons/week, for all $s\\in\\mathbf{S}$ and $\\ell\\in\\mathbf{L}$}\n",
        "\\end{align*}\n",
        "\n",
        "**Formulation**\n",
        "\n",
        "With the above expanded lists, parameters, and decision variables, we formulate our expanded model as follows:\n",
        "\n",
        "$$\n",
        "\\begin{align}\n",
        "\\min \\quad & 1.03 \\cdot \\sum_{c\\in\\mathbf{C}}\\sum_{\\ell\\in\\mathbf{L}}d_{c,\\ell} \\cdot x_{c,\\ell} +\n",
        "1.03 \\cdot \\sum_{c\\in\\mathbf{C}}\\sum_{s\\in\\mathbf{S}}d_{c,s} \\cdot x_{c,s} \\\\\n",
        "& 0.4 \\cdot \\sum_{s\\in\\mathbf{S}}\\sum_{\\ell\\in\\mathbf{L}}d_{s,\\ell} \\cdot x_{s,\\ell} +\n",
        "8750 \\sum_{\\ell\\in \\mathbf{L}} z_\\ell + 6500 \\sum_{s\\in \\mathbf{S}} y_s & \\\\\n",
        "\\text{s.t.} \\quad & \\sum_{\\ell\\in\\mathbf{L}} x_{c,\\ell} + \\sum_{s\\in\\mathbf{S}}x_{c,s} = q_c & & \\text{for each } c \\in \\mathbf{C}\\\\\n",
        "& \\sum_{c \\in \\mathbf{C}} x_{c,s} = \\sum_{\\ell\\in\\mathbf{L}} x_{s,\\ell} & & \\text{for each } s \\in \\mathbf{S} \\\\\n",
        "& \\sum_{c\\in\\mathbf{C}} x_{c,s} \\leq 2000 & & \\text{for each } s \\in \\mathbf{S}   \\\\\n",
        "& x_{c,\\ell} \\leq 100000 \\cdot z_\\ell & & \\text{for each } c \\in \\mathbf{C}, \\ell \\in \\mathbf{L}  \\\\\n",
        "& x_{c,s} \\leq 100000 \\cdot y_s & & \\text{for each } c \\in \\mathbf{C}, s \\in \\mathbf{S}  \\\\\n",
        "& x_{s,\\ell} \\leq 100000 \\cdot z_\\ell & & \\text{for each } s \\in \\mathbf{S}, \\ell \\in \\mathbf{L} \\\\\n",
        "& x_{c,\\ell} \\geq 0 & & \\text{for each } c \\in \\mathbf{C}, \\ell \\in \\mathbf{L}   \\\\\n",
        "& x_{c,s} \\geq 0 & & \\text{for each } c \\in \\mathbf{C}, s \\in \\mathbf{S}   \\\\\n",
        "& x_{s,\\ell} \\geq 0 & & \\text{for each } s \\in \\mathbf{S}, \\ell \\in \\mathbf{L}  \\\\\n",
        "& z_\\ell \\in \\{0,1\\} & & \\text{for each } \\ell \\in \\mathbf{L}   \\\\\n",
        "& y_s \\in \\{0,1\\} & & \\text{for each } s \\in \\mathbf{S}\n",
        "\\end{align}\n",
        "$$"
      ]
    },
    {
      "cell_type": "markdown",
      "metadata": {
        "id": "pxWPL6cu7jXK"
      },
      "source": [
        "**Understanding the Formulation**\n",
        "\n",
        "Questions 12-17 below ask you to explain the formulation above. We recommend that each answer be 1-3 sentences.  Your answers should convince the grader that you have a thorough understanding of this optimization model formulation."
      ]
    },
    {
      "cell_type": "markdown",
      "metadata": {
        "id": "LM3Bao8v7jXK"
      },
      "source": [
        "**Question 12.** What is the purpose of each of the five types of decision variables? How many decision variables are there in total? Which variables must be integral?\n",
        "\n",
        "**Answer 12.** _Your Answer Here_"
      ]
    },
    {
      "cell_type": "markdown",
      "metadata": {
        "id": "4bZRhduZ7jXL"
      },
      "source": [
        "\n",
        "**Question 13.** Describe the objective function in a couple of sentences.  What are the different parts of the objective function?\n",
        "\n",
        "**Answer 13.** _Your Answer Here_"
      ]
    },
    {
      "cell_type": "markdown",
      "metadata": {
        "id": "aFtnE2Ma7jXL"
      },
      "source": [
        "**Question 14.** What is the purpose of the first group of constraints?\n",
        "\n",
        "**Answer 14.** _Your Answer Here_"
      ]
    },
    {
      "cell_type": "markdown",
      "metadata": {
        "id": "-z1CtYWR7jXM"
      },
      "source": [
        "**Question 15.** What is the purpose of the second group of constraints?\n",
        "\n",
        "**Answer 15.** _Your Answer Here_"
      ]
    },
    {
      "cell_type": "markdown",
      "metadata": {
        "id": "A05_NAOj7jXM"
      },
      "source": [
        "**Question 16.** What is the purpose of the third group of constraints? (involving 2000)\n",
        "\n",
        "**Answer 16.** _Your Answer Here_"
      ]
    },
    {
      "cell_type": "markdown",
      "metadata": {
        "id": "-AcNo0Qm7jXM"
      },
      "source": [
        "**Question 17.** What is the purpose of the remaining constraints (the 4th, 5th and 6th group of constraints)? These are the constraints those involving 100,000?\n",
        "\n",
        "**Answer 17.** _Your Answer Here_"
      ]
    },
    {
      "cell_type": "markdown",
      "metadata": {
        "id": "Chj5yyCE7jXO"
      },
      "source": [
        "## (b): Constructing and Solving the Expanded Optimization Model [10 Points]\n",
        "\n",
        "Let us now construct, solve, and then use the expanded optimization model formulated above."
      ]
    },
    {
      "cell_type": "markdown",
      "metadata": {
        "id": "hB9380j08aE9"
      },
      "source": [
        "**Step 1**: Let us read in the new data file on compaction transfer stations."
      ]
    },
    {
      "cell_type": "code",
      "source": [
        "station_locations = pd.read_csv(f'https://drive.google.com/uc?id=1VCvMz4wzabW770u04gVlh0LrnnbV5fze', index_col=\"Station\")\n",
        "station_locations.head()"
      ],
      "metadata": {
        "id": "iM6169wrAQw8"
      },
      "execution_count": null,
      "outputs": []
    },
    {
      "cell_type": "markdown",
      "metadata": {
        "id": "rSMx8b3V7jXR"
      },
      "source": [
        "The data looks good, so let us proceed."
      ]
    },
    {
      "cell_type": "markdown",
      "metadata": {
        "id": "22NtT1P57jXR"
      },
      "source": [
        "**Step 2**: We need to add the set (or list) of stations"
      ]
    },
    {
      "cell_type": "code",
      "execution_count": null,
      "metadata": {
        "id": "M-F-9DZ57jXc"
      },
      "outputs": [],
      "source": [
        "stations = list(station_locations.index)\n",
        "stations[:5]"
      ]
    },
    {
      "cell_type": "markdown",
      "metadata": {
        "id": "HqNMNvIr7jXd"
      },
      "source": [
        "**Step 3**: Let us now compute the distance between all pairs of centers, stations, and landfills."
      ]
    },
    {
      "cell_type": "code",
      "execution_count": null,
      "metadata": {
        "id": "TgmA6ZA87jXd"
      },
      "outputs": [],
      "source": [
        "# compute distances between all centers and all landfills\n",
        "distance_centers_landfills = pd.DataFrame(index=centers, columns=landfills)\n",
        "for i in centers:\n",
        "    for j in landfills:\n",
        "        center_x = center_locations.loc[i, \"x\"]\n",
        "        center_y = center_locations.loc[i, \"y\"]\n",
        "        landfill_x = landfill_locations.loc[j, \"x\"]\n",
        "        landfill_y = landfill_locations.loc[j, \"y\"]\n",
        "        distance = np.sqrt((center_x - landfill_x) ** 2 + (center_y - landfill_y) ** 2)\n",
        "        distance_centers_landfills.loc[i, j] = distance\n",
        "\n",
        "# compute distances between all centers and all stations\n",
        "distance_centers_stations = pd.DataFrame(index=centers, columns=stations)\n",
        "for i in centers:\n",
        "    for k in stations:\n",
        "        center_x = center_locations.loc[i, \"x\"]\n",
        "        center_y = center_locations.loc[i, \"y\"]\n",
        "        station_x = station_locations.loc[k, \"x\"]\n",
        "        station_y = station_locations.loc[k, \"y\"]\n",
        "        distance = np.sqrt((center_x - station_x) ** 2 + (center_y - station_y) ** 2)\n",
        "        distance_centers_stations.loc[i, k] = distance\n",
        "\n",
        "# compute distances between all stations and all landfills\n",
        "distance_stations_landfills = pd.DataFrame(index=stations, columns=landfills)\n",
        "for k in stations:\n",
        "    for j in landfills:\n",
        "        station_x = station_locations.loc[k, \"x\"]\n",
        "        station_y = station_locations.loc[k, \"y\"]\n",
        "        landfill_x = landfill_locations.loc[j, \"x\"]\n",
        "        landfill_y = landfill_locations.loc[j, \"y\"]\n",
        "        distance = np.abs(station_x - landfill_x) + np.abs(station_y - landfill_y)\n",
        "        distance_stations_landfills.loc[k, j] = distance\n",
        "\n",
        "distance_centers_landfills.head()"
      ]
    },
    {
      "cell_type": "markdown",
      "metadata": {
        "id": "ijqykXLz7jXf"
      },
      "source": [
        "**Step 4.** We can now construct our expanded optimization model in gurobipy and solve.\n",
        "\n",
        "**Please fill in the `???` in the code below**."
      ]
    },
    {
      "cell_type": "code",
      "execution_count": null,
      "metadata": {
        "id": "JIIfc6gC7jXf"
      },
      "outputs": [],
      "source": [
        "model_2 = gp.Model(env=env)\n",
        "\n",
        "x_cl = model_2.addVars(???, ???)\n",
        "x_cs = model_2.addVars(???, ???)\n",
        "x_sl = model_2.addVars(???, ???)\n",
        "z = model_2.addVars(???, vtype=GRB.BINARY)\n",
        "y = model_2.addVars(???, vtype=GRB.BINARY)\n",
        "\n",
        "model_2.setObjective(\n",
        "    1.03 * sum(distance_centers_landfills.loc[i,j] * x_cl[i,j] for i in centers for j in landfills) +\n",
        "    1.03 * sum(distance_centers_stations.loc[i,k] * x_cs[i,k] for i in centers for k in stations) +\n",
        "    0.4 * sum(distance_stations_landfills.loc[k,j] * x_sl[k,j] for k in stations for j in landfills) +\n",
        "    8750 * sum(???) +\n",
        "    6500 * sum(???),\n",
        "    GRB.MINIMIZE)\n",
        "\n",
        "for i in centers:\n",
        "    model_2.addConstr(sum(x_cl[i,j] for ???) + sum(x_cs[i,k] for ???) == center_info.loc[i,'waste tonnage'])\n",
        "\n",
        "for k in stations:\n",
        "    model_2.addConstr(sum(x_cs[i,k] for ???) ==\n",
        "                      sum(x_sl[k,j] for ???))\n",
        "\n",
        "for i in centers:\n",
        "    for j in landfills:\n",
        "        model_2.addConstr(x_cl[i,j] <= 100000 * ???)\n",
        "\n",
        "for i in centers:\n",
        "    for k in stations:\n",
        "        model_2.addConstr(x_cs[i,k] <= 100000 * ???)\n",
        "\n",
        "for k in stations:\n",
        "    for j in landfills:\n",
        "        model_2.addConstr(x_sl[k,j] <= 100000 * ???)\n",
        "\n",
        "for k in stations:\n",
        "    model_2.addConstr(sum(x_cs[i,k] for i in centers) <= ???)\n",
        "\n",
        "model_2.optimize()"
      ]
    },
    {
      "cell_type": "markdown",
      "metadata": {
        "id": "WQZcCYRi7jXg"
      },
      "source": [
        "## (c) Examining the Optimal Solution [30 Points]\n",
        "\n",
        "**Question 18.**  Which landfills are built? Write code below to print out the landfills that are built."
      ]
    },
    {
      "cell_type": "code",
      "execution_count": null,
      "metadata": {
        "id": "eRheCLkD7jXg"
      },
      "outputs": [],
      "source": [
        "### YOUR CODE HERE ###"
      ]
    },
    {
      "cell_type": "markdown",
      "metadata": {
        "id": "OCtKSz3e7jXh"
      },
      "source": [
        "**Question 19.**. Which transfer stations are built? Write code below to print out the transfer stations that are built."
      ]
    },
    {
      "cell_type": "code",
      "execution_count": null,
      "metadata": {
        "scrolled": true,
        "id": "S_BzpjIr7jXh"
      },
      "outputs": [],
      "source": [
        "### YOUR CODE HERE ###"
      ]
    },
    {
      "cell_type": "markdown",
      "metadata": {
        "id": "2ixG3Y5n7jXi"
      },
      "source": [
        "**Visualization** Now let us plot the locations of the chosen landfills and transfer stations, and the transportation flows"
      ]
    },
    {
      "cell_type": "code",
      "execution_count": null,
      "metadata": {
        "id": "gUOlLEAs7jXi"
      },
      "outputs": [],
      "source": [
        "built_landfills = []\n",
        "for j in landfills:\n",
        "    if z[j].x > 0.99:\n",
        "        built_landfills.append(j)\n",
        "\n",
        "built_station = []\n",
        "for k in stations:\n",
        "    if y[k].x > 0.99:\n",
        "        built_station.append(k)\n",
        "\n",
        "plt.figure(figsize=(6,6), dpi=120)\n",
        "\n",
        "# Plot lines between centers and landfills\n",
        "for i in built_landfills:\n",
        "    for j in centers:\n",
        "        if x_cl[j,i].x > 1e-3:\n",
        "            plt.plot([landfill_locations.loc[i,'x'], center_locations.loc[j,'x']],\n",
        "                    [landfill_locations.loc[i,'y'], center_locations.loc[j,'y']],\n",
        "                    color='black', linestyle='-', alpha=0.5)\n",
        "\n",
        "# Plot lines between centers and stations\n",
        "for i in built_station:\n",
        "    for j in centers:\n",
        "        if x_cs[j,i].x > 1e-3:\n",
        "            plt.plot([station_locations.loc[i,'x'], center_locations.loc[j,'x']],\n",
        "                    [station_locations.loc[i,'y'], center_locations.loc[j,'y']],\n",
        "                    color='black', linestyle='-', alpha=0.5)\n",
        "\n",
        "# Plot lines between stations and landfills\n",
        "for i in built_station:\n",
        "    for j in built_landfills:\n",
        "        if x_sl[i,j].x > 1e-3:\n",
        "            plt.plot([landfill_locations.loc[j,'x'], station_locations.loc[i,'x']],\n",
        "                    [landfill_locations.loc[j,'y'], station_locations.loc[i,'y']],\n",
        "                    color='black', linestyle='-', alpha=0.5)\n",
        "\n",
        "# Plot locations\n",
        "plt.scatter(center_locations['x'], center_locations['y'],\n",
        "           color='blue', s=center_info['waste tonnage']/10, label=\"Center locations\")\n",
        "plt.scatter(landfill_locations.loc[built_landfills,'x'], landfill_locations.loc[built_landfills,'y'],\n",
        "           color='green', label=\"Landfill locations\")\n",
        "plt.scatter(station_locations.loc[built_station,'x'], station_locations.loc[built_station,'y'],\n",
        "           color='orange', label=\"Station locations\")\n",
        "\n",
        "plt.legend()\n",
        "plt.title('Task 2: Solution with Transfer Stations')\n",
        "plt.xlim(0, 100)\n",
        "plt.ylim(0, 100)\n",
        "plt.xlabel('x-coordinate (Longitude)')\n",
        "plt.ylabel('y-coordinate (Latitude)')\n",
        "plt.show()"
      ]
    },
    {
      "cell_type": "markdown",
      "metadata": {
        "id": "FqeXmteU7jXj"
      },
      "source": [
        "**Question 20.** Use the following 4 cells to calculate the:\n",
        "* Total weekly cost\n",
        "* Transportation cost\n",
        "* Cost from bond-servicing landfills\n",
        "* Cost from bond-servicing transfer stations."
      ]
    },
    {
      "cell_type": "code",
      "execution_count": null,
      "metadata": {
        "id": "YI-0QHvg7jXj"
      },
      "outputs": [],
      "source": [
        "### YOUR CODE HERE ###"
      ]
    },
    {
      "cell_type": "code",
      "execution_count": null,
      "metadata": {
        "id": "9-OLyGQH7jXk"
      },
      "outputs": [],
      "source": [
        "### YOUR CODE HERE ###"
      ]
    },
    {
      "cell_type": "code",
      "execution_count": null,
      "metadata": {
        "id": "iOYunIsX7jXl"
      },
      "outputs": [],
      "source": [
        "### YOUR CODE HERE ###"
      ]
    },
    {
      "cell_type": "code",
      "execution_count": null,
      "metadata": {
        "id": "nGE2NzZ87jXm"
      },
      "outputs": [],
      "source": [
        "### YOUR CODE HERE ###"
      ]
    },
    {
      "cell_type": "markdown",
      "source": [
        "**Question 21**. Using the breakdown of total cost from Question 20, discuss how the total cost with transfer stations from `model_2` compares to that without transfer stations from `model_1d`. Is this expected?\n",
        "\n",
        "**Answer 21** _Your Answer Here_"
      ],
      "metadata": {
        "id": "Oek50WI9zvDf"
      }
    },
    {
      "cell_type": "markdown",
      "metadata": {
        "id": "Y-UitmL27jXn"
      },
      "source": [
        "**Question 22**. In our optimal solution, what is the fraction of waste handled via transfer stations? (i.e., compacted)? Write code below that displays this fraction."
      ]
    },
    {
      "cell_type": "code",
      "execution_count": null,
      "metadata": {
        "scrolled": true,
        "id": "DZCEToNa7jXn"
      },
      "outputs": [],
      "source": [
        "### YOUR CODE HERE ###"
      ]
    },
    {
      "cell_type": "markdown",
      "metadata": {
        "id": "7JtKnAz27jXo"
      },
      "source": [
        "**Question 23.** If the 0.63 cents/ton/mile difference between the two transportation costs (1.03 vs 0.40) shrinks, how will your answer to question 22 change? Support your answer with 1-2 sentences of qualitative reasoning. It is not necessary to modify or re-solve the model.\n",
        "\n",
        "**Answer 23.** _Your Answer Here_"
      ]
    }
  ],
  "metadata": {
    "colab": {
      "provenance": [],
      "include_colab_link": true
    },
    "finalized": {
      "timestamp": 1649304291616,
      "trusted": true
    },
    "kernelspec": {
      "display_name": "Python 3 (ipykernel)",
      "language": "python",
      "name": "python3"
    },
    "language_info": {
      "codemirror_mode": {
        "name": "ipython",
        "version": 3
      },
      "file_extension": ".py",
      "mimetype": "text/x-python",
      "name": "python",
      "nbconvert_exporter": "python",
      "pygments_lexer": "ipython3",
      "version": "3.10.9"
    }
  },
  "nbformat": 4,
  "nbformat_minor": 0
}